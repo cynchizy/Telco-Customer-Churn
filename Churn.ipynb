{
 "cells": [
  {
   "cell_type": "code",
   "execution_count": 1,
   "metadata": {},
   "outputs": [
    {
     "name": "stderr",
     "output_type": "stream",
     "text": [
      "c:\\users\\odion\\appdata\\local\\programs\\python\\python36\\lib\\site-packages\\sklearn\\cross_validation.py:41: DeprecationWarning: This module was deprecated in version 0.18 in favor of the model_selection module into which all the refactored classes and functions are moved. Also note that the interface of the new CV iterators are different from that of this module. This module will be removed in 0.20.\n",
      "  \"This module will be removed in 0.20.\", DeprecationWarning)\n"
     ]
    }
   ],
   "source": [
    "#import libraries\n",
    "import numpy as np\n",
    "import pandas as pd\n",
    "import matplotlib.pyplot as plt\n",
    "import seaborn as sns\n",
    "#from imblearn.over_sampling import RandomOverSampler, SMOTE, ADASYN\n",
    "from sklearn.model_selection import train_test_split, cross_val_predict\n",
    "from sklearn.metrics import accuracy_score, confusion_matrix, roc_auc_score\n",
    "from sklearn.preprocessing import StandardScaler, MinMaxScaler\n",
    "from sklearn.ensemble import RandomForestClassifier\n",
    "from sklearn.linear_model import LogisticRegression\n",
    "from sklearn.tree import DecisionTreeClassifier\n",
    "from sklearn.svm import SVC\n",
    "from sklearn.cross_validation import cross_val_score\n",
    "from sklearn.linear_model import Lasso, Ridge, LinearRegression\n",
    "%matplotlib inline"
   ]
  },
  {
   "cell_type": "code",
   "execution_count": 2,
   "metadata": {},
   "outputs": [
    {
     "data": {
      "text/html": [
       "<div>\n",
       "<style scoped>\n",
       "    .dataframe tbody tr th:only-of-type {\n",
       "        vertical-align: middle;\n",
       "    }\n",
       "\n",
       "    .dataframe tbody tr th {\n",
       "        vertical-align: top;\n",
       "    }\n",
       "\n",
       "    .dataframe thead th {\n",
       "        text-align: right;\n",
       "    }\n",
       "</style>\n",
       "<table border=\"1\" class=\"dataframe\">\n",
       "  <thead>\n",
       "    <tr style=\"text-align: right;\">\n",
       "      <th></th>\n",
       "      <th>network_age</th>\n",
       "      <th>Customer tenure in month</th>\n",
       "      <th>Total Spend in Months 1 and 2 of 2017</th>\n",
       "      <th>Total SMS Spend</th>\n",
       "      <th>Total Data Spend</th>\n",
       "      <th>Total Data Consumption</th>\n",
       "      <th>Total Unique Calls</th>\n",
       "      <th>Total Onnet spend</th>\n",
       "      <th>Total Offnet spend</th>\n",
       "      <th>Total Call centre complaint calls</th>\n",
       "      <th>Churn Status</th>\n",
       "    </tr>\n",
       "  </thead>\n",
       "  <tbody>\n",
       "    <tr>\n",
       "      <th>count</th>\n",
       "      <td>1400.000000</td>\n",
       "      <td>1400.000000</td>\n",
       "      <td>1400.000000</td>\n",
       "      <td>1400.000000</td>\n",
       "      <td>1400.000000</td>\n",
       "      <td>1.400000e+03</td>\n",
       "      <td>1400.000000</td>\n",
       "      <td>1400.000000</td>\n",
       "      <td>1400.00000</td>\n",
       "      <td>1400.000000</td>\n",
       "      <td>1400.000000</td>\n",
       "    </tr>\n",
       "    <tr>\n",
       "      <th>mean</th>\n",
       "      <td>1450.634286</td>\n",
       "      <td>48.354479</td>\n",
       "      <td>805.641729</td>\n",
       "      <td>30.394286</td>\n",
       "      <td>58.482293</td>\n",
       "      <td>2.162307e+06</td>\n",
       "      <td>202.422143</td>\n",
       "      <td>6814.392143</td>\n",
       "      <td>15730.42000</td>\n",
       "      <td>1.922143</td>\n",
       "      <td>0.500000</td>\n",
       "    </tr>\n",
       "    <tr>\n",
       "      <th>std</th>\n",
       "      <td>1276.008188</td>\n",
       "      <td>42.533536</td>\n",
       "      <td>1251.742068</td>\n",
       "      <td>60.885095</td>\n",
       "      <td>289.613589</td>\n",
       "      <td>6.865958e+06</td>\n",
       "      <td>302.036220</td>\n",
       "      <td>16707.784943</td>\n",
       "      <td>37448.94212</td>\n",
       "      <td>2.345515</td>\n",
       "      <td>0.500179</td>\n",
       "    </tr>\n",
       "    <tr>\n",
       "      <th>min</th>\n",
       "      <td>-5.000000</td>\n",
       "      <td>-0.170000</td>\n",
       "      <td>4.910000</td>\n",
       "      <td>0.000000</td>\n",
       "      <td>0.000000</td>\n",
       "      <td>5.860000e-02</td>\n",
       "      <td>1.000000</td>\n",
       "      <td>0.000000</td>\n",
       "      <td>0.00000</td>\n",
       "      <td>1.000000</td>\n",
       "      <td>0.000000</td>\n",
       "    </tr>\n",
       "    <tr>\n",
       "      <th>25%</th>\n",
       "      <td>287.000000</td>\n",
       "      <td>9.567500</td>\n",
       "      <td>155.537500</td>\n",
       "      <td>2.620000</td>\n",
       "      <td>1.250000</td>\n",
       "      <td>1.384346e+03</td>\n",
       "      <td>18.000000</td>\n",
       "      <td>60.000000</td>\n",
       "      <td>1123.00000</td>\n",
       "      <td>1.000000</td>\n",
       "      <td>0.000000</td>\n",
       "    </tr>\n",
       "    <tr>\n",
       "      <th>50%</th>\n",
       "      <td>1171.000000</td>\n",
       "      <td>39.030000</td>\n",
       "      <td>606.575000</td>\n",
       "      <td>13.715000</td>\n",
       "      <td>11.250000</td>\n",
       "      <td>1.193487e+05</td>\n",
       "      <td>81.500000</td>\n",
       "      <td>1617.000000</td>\n",
       "      <td>4171.00000</td>\n",
       "      <td>1.000000</td>\n",
       "      <td>0.500000</td>\n",
       "    </tr>\n",
       "    <tr>\n",
       "      <th>75%</th>\n",
       "      <td>2242.000000</td>\n",
       "      <td>74.732500</td>\n",
       "      <td>1018.395500</td>\n",
       "      <td>31.205000</td>\n",
       "      <td>42.812500</td>\n",
       "      <td>1.206785e+06</td>\n",
       "      <td>254.250000</td>\n",
       "      <td>7177.750000</td>\n",
       "      <td>13151.50000</td>\n",
       "      <td>2.000000</td>\n",
       "      <td>1.000000</td>\n",
       "    </tr>\n",
       "    <tr>\n",
       "      <th>max</th>\n",
       "      <td>5451.000000</td>\n",
       "      <td>181.700000</td>\n",
       "      <td>24438.830000</td>\n",
       "      <td>873.980000</td>\n",
       "      <td>8295.000000</td>\n",
       "      <td>9.945640e+07</td>\n",
       "      <td>2596.000000</td>\n",
       "      <td>381174.000000</td>\n",
       "      <td>431440.00000</td>\n",
       "      <td>49.000000</td>\n",
       "      <td>1.000000</td>\n",
       "    </tr>\n",
       "  </tbody>\n",
       "</table>\n",
       "</div>"
      ],
      "text/plain": [
       "       network_age  Customer tenure in month  \\\n",
       "count  1400.000000               1400.000000   \n",
       "mean   1450.634286                 48.354479   \n",
       "std    1276.008188                 42.533536   \n",
       "min      -5.000000                 -0.170000   \n",
       "25%     287.000000                  9.567500   \n",
       "50%    1171.000000                 39.030000   \n",
       "75%    2242.000000                 74.732500   \n",
       "max    5451.000000                181.700000   \n",
       "\n",
       "       Total Spend in Months 1 and 2 of 2017  Total SMS Spend  \\\n",
       "count                            1400.000000      1400.000000   \n",
       "mean                              805.641729        30.394286   \n",
       "std                              1251.742068        60.885095   \n",
       "min                                 4.910000         0.000000   \n",
       "25%                               155.537500         2.620000   \n",
       "50%                               606.575000        13.715000   \n",
       "75%                              1018.395500        31.205000   \n",
       "max                             24438.830000       873.980000   \n",
       "\n",
       "       Total Data Spend  Total Data Consumption  Total Unique Calls  \\\n",
       "count       1400.000000            1.400000e+03         1400.000000   \n",
       "mean          58.482293            2.162307e+06          202.422143   \n",
       "std          289.613589            6.865958e+06          302.036220   \n",
       "min            0.000000            5.860000e-02            1.000000   \n",
       "25%            1.250000            1.384346e+03           18.000000   \n",
       "50%           11.250000            1.193487e+05           81.500000   \n",
       "75%           42.812500            1.206785e+06          254.250000   \n",
       "max         8295.000000            9.945640e+07         2596.000000   \n",
       "\n",
       "       Total Onnet spend   Total Offnet spend  \\\n",
       "count         1400.000000          1400.00000   \n",
       "mean          6814.392143         15730.42000   \n",
       "std          16707.784943         37448.94212   \n",
       "min              0.000000             0.00000   \n",
       "25%             60.000000          1123.00000   \n",
       "50%           1617.000000          4171.00000   \n",
       "75%           7177.750000         13151.50000   \n",
       "max         381174.000000        431440.00000   \n",
       "\n",
       "       Total Call centre complaint calls  Churn Status  \n",
       "count                        1400.000000   1400.000000  \n",
       "mean                            1.922143      0.500000  \n",
       "std                             2.345515      0.500179  \n",
       "min                             1.000000      0.000000  \n",
       "25%                             1.000000      0.000000  \n",
       "50%                             1.000000      0.500000  \n",
       "75%                             2.000000      1.000000  \n",
       "max                            49.000000      1.000000  "
      ]
     },
     "execution_count": 2,
     "metadata": {},
     "output_type": "execute_result"
    }
   ],
   "source": [
    "badass_train = pd.read_csv('../venv/TRAIN.csv')\n",
    "badass_train.describe()"
   ]
  },
  {
   "cell_type": "code",
   "execution_count": 3,
   "metadata": {},
   "outputs": [],
   "source": [
    "#badass.head(3)"
   ]
  },
  {
   "cell_type": "code",
   "execution_count": 4,
   "metadata": {},
   "outputs": [
    {
     "data": {
      "text/html": [
       "<div>\n",
       "<style scoped>\n",
       "    .dataframe tbody tr th:only-of-type {\n",
       "        vertical-align: middle;\n",
       "    }\n",
       "\n",
       "    .dataframe tbody tr th {\n",
       "        vertical-align: top;\n",
       "    }\n",
       "\n",
       "    .dataframe thead th {\n",
       "        text-align: right;\n",
       "    }\n",
       "</style>\n",
       "<table border=\"1\" class=\"dataframe\">\n",
       "  <thead>\n",
       "    <tr style=\"text-align: right;\">\n",
       "      <th></th>\n",
       "      <th>network_age</th>\n",
       "      <th>Customer tenure in month</th>\n",
       "      <th>Total Spend in Months 1 and 2 of 2017</th>\n",
       "      <th>Total SMS Spend</th>\n",
       "      <th>Total Data Spend</th>\n",
       "      <th>Total Data Consumption</th>\n",
       "      <th>Total Unique Calls</th>\n",
       "      <th>Total Onnet spend</th>\n",
       "      <th>Total Offnet spend</th>\n",
       "      <th>Total Call centre complaint calls</th>\n",
       "    </tr>\n",
       "  </thead>\n",
       "  <tbody>\n",
       "    <tr>\n",
       "      <th>count</th>\n",
       "      <td>600.000000</td>\n",
       "      <td>600.000000</td>\n",
       "      <td>600.000000</td>\n",
       "      <td>600.000000</td>\n",
       "      <td>600.000000</td>\n",
       "      <td>6.000000e+02</td>\n",
       "      <td>600.000000</td>\n",
       "      <td>600.000000</td>\n",
       "      <td>600.000000</td>\n",
       "      <td>600.000000</td>\n",
       "    </tr>\n",
       "    <tr>\n",
       "      <th>mean</th>\n",
       "      <td>1513.701667</td>\n",
       "      <td>50.456722</td>\n",
       "      <td>1136.902985</td>\n",
       "      <td>32.775350</td>\n",
       "      <td>59.561583</td>\n",
       "      <td>4.201155e+06</td>\n",
       "      <td>330.716667</td>\n",
       "      <td>8804.033333</td>\n",
       "      <td>18154.278333</td>\n",
       "      <td>1.930000</td>\n",
       "    </tr>\n",
       "    <tr>\n",
       "      <th>std</th>\n",
       "      <td>1311.496823</td>\n",
       "      <td>43.716561</td>\n",
       "      <td>828.916189</td>\n",
       "      <td>50.290467</td>\n",
       "      <td>91.981495</td>\n",
       "      <td>1.216901e+07</td>\n",
       "      <td>481.736778</td>\n",
       "      <td>15912.129544</td>\n",
       "      <td>25483.237987</td>\n",
       "      <td>2.069357</td>\n",
       "    </tr>\n",
       "    <tr>\n",
       "      <th>min</th>\n",
       "      <td>-8.000000</td>\n",
       "      <td>-0.266667</td>\n",
       "      <td>225.932800</td>\n",
       "      <td>0.000000</td>\n",
       "      <td>0.000000</td>\n",
       "      <td>1.211000e-01</td>\n",
       "      <td>1.000000</td>\n",
       "      <td>0.000000</td>\n",
       "      <td>0.000000</td>\n",
       "      <td>1.000000</td>\n",
       "    </tr>\n",
       "    <tr>\n",
       "      <th>25%</th>\n",
       "      <td>390.250000</td>\n",
       "      <td>13.008333</td>\n",
       "      <td>403.342500</td>\n",
       "      <td>5.250000</td>\n",
       "      <td>2.500000</td>\n",
       "      <td>1.889670e+04</td>\n",
       "      <td>45.750000</td>\n",
       "      <td>257.750000</td>\n",
       "      <td>2401.000000</td>\n",
       "      <td>1.000000</td>\n",
       "    </tr>\n",
       "    <tr>\n",
       "      <th>50%</th>\n",
       "      <td>1246.000000</td>\n",
       "      <td>41.533333</td>\n",
       "      <td>942.639600</td>\n",
       "      <td>17.940000</td>\n",
       "      <td>23.750000</td>\n",
       "      <td>4.653526e+05</td>\n",
       "      <td>152.000000</td>\n",
       "      <td>2526.500000</td>\n",
       "      <td>8096.500000</td>\n",
       "      <td>1.000000</td>\n",
       "    </tr>\n",
       "    <tr>\n",
       "      <th>75%</th>\n",
       "      <td>2256.250000</td>\n",
       "      <td>75.208333</td>\n",
       "      <td>1699.786000</td>\n",
       "      <td>39.715000</td>\n",
       "      <td>73.750000</td>\n",
       "      <td>2.433745e+06</td>\n",
       "      <td>470.250000</td>\n",
       "      <td>10688.500000</td>\n",
       "      <td>21142.750000</td>\n",
       "      <td>2.000000</td>\n",
       "    </tr>\n",
       "    <tr>\n",
       "      <th>max</th>\n",
       "      <td>5363.000000</td>\n",
       "      <td>178.766667</td>\n",
       "      <td>3491.134800</td>\n",
       "      <td>567.380000</td>\n",
       "      <td>748.750000</td>\n",
       "      <td>1.550312e+08</td>\n",
       "      <td>5727.000000</td>\n",
       "      <td>145839.000000</td>\n",
       "      <td>158521.000000</td>\n",
       "      <td>17.000000</td>\n",
       "    </tr>\n",
       "  </tbody>\n",
       "</table>\n",
       "</div>"
      ],
      "text/plain": [
       "       network_age  Customer tenure in month  \\\n",
       "count   600.000000                600.000000   \n",
       "mean   1513.701667                 50.456722   \n",
       "std    1311.496823                 43.716561   \n",
       "min      -8.000000                 -0.266667   \n",
       "25%     390.250000                 13.008333   \n",
       "50%    1246.000000                 41.533333   \n",
       "75%    2256.250000                 75.208333   \n",
       "max    5363.000000                178.766667   \n",
       "\n",
       "       Total Spend in Months 1 and 2 of 2017  Total SMS Spend  \\\n",
       "count                             600.000000       600.000000   \n",
       "mean                             1136.902985        32.775350   \n",
       "std                               828.916189        50.290467   \n",
       "min                               225.932800         0.000000   \n",
       "25%                               403.342500         5.250000   \n",
       "50%                               942.639600        17.940000   \n",
       "75%                              1699.786000        39.715000   \n",
       "max                              3491.134800       567.380000   \n",
       "\n",
       "       Total Data Spend  Total Data Consumption  Total Unique Calls  \\\n",
       "count        600.000000            6.000000e+02          600.000000   \n",
       "mean          59.561583            4.201155e+06          330.716667   \n",
       "std           91.981495            1.216901e+07          481.736778   \n",
       "min            0.000000            1.211000e-01            1.000000   \n",
       "25%            2.500000            1.889670e+04           45.750000   \n",
       "50%           23.750000            4.653526e+05          152.000000   \n",
       "75%           73.750000            2.433745e+06          470.250000   \n",
       "max          748.750000            1.550312e+08         5727.000000   \n",
       "\n",
       "       Total Onnet spend   Total Offnet spend  \\\n",
       "count          600.000000          600.000000   \n",
       "mean          8804.033333        18154.278333   \n",
       "std          15912.129544        25483.237987   \n",
       "min              0.000000            0.000000   \n",
       "25%            257.750000         2401.000000   \n",
       "50%           2526.500000         8096.500000   \n",
       "75%          10688.500000        21142.750000   \n",
       "max         145839.000000       158521.000000   \n",
       "\n",
       "       Total Call centre complaint calls  \n",
       "count                         600.000000  \n",
       "mean                            1.930000  \n",
       "std                             2.069357  \n",
       "min                             1.000000  \n",
       "25%                             1.000000  \n",
       "50%                             1.000000  \n",
       "75%                             2.000000  \n",
       "max                            17.000000  "
      ]
     },
     "execution_count": 4,
     "metadata": {},
     "output_type": "execute_result"
    }
   ],
   "source": [
    "badass_test = pd.read_csv('../venv/TEST.csv')\n",
    "badass_test.describe()"
   ]
  },
  {
   "cell_type": "code",
   "execution_count": 5,
   "metadata": {},
   "outputs": [
    {
     "data": {
      "text/html": [
       "<div>\n",
       "<style scoped>\n",
       "    .dataframe tbody tr th:only-of-type {\n",
       "        vertical-align: middle;\n",
       "    }\n",
       "\n",
       "    .dataframe tbody tr th {\n",
       "        vertical-align: top;\n",
       "    }\n",
       "\n",
       "    .dataframe thead th {\n",
       "        text-align: right;\n",
       "    }\n",
       "</style>\n",
       "<table border=\"1\" class=\"dataframe\">\n",
       "  <thead>\n",
       "    <tr style=\"text-align: right;\">\n",
       "      <th></th>\n",
       "      <th>Customer ID</th>\n",
       "      <th>network_age</th>\n",
       "      <th>Customer tenure in month</th>\n",
       "      <th>Total Spend in Months 1 and 2 of 2017</th>\n",
       "      <th>Total SMS Spend</th>\n",
       "      <th>Total Data Spend</th>\n",
       "      <th>Total Data Consumption</th>\n",
       "      <th>Total Unique Calls</th>\n",
       "      <th>Total Onnet spend</th>\n",
       "      <th>Total Offnet spend</th>\n",
       "      <th>Total Call centre complaint calls</th>\n",
       "      <th>Network type subscription in Month 1</th>\n",
       "      <th>Network type subscription in Month 2</th>\n",
       "      <th>Most Loved Competitor network in in Month 1</th>\n",
       "      <th>Most Loved Competitor network in in Month 2</th>\n",
       "    </tr>\n",
       "  </thead>\n",
       "  <tbody>\n",
       "    <tr>\n",
       "      <th>0</th>\n",
       "      <td>ADF0001</td>\n",
       "      <td>1012</td>\n",
       "      <td>33.733333</td>\n",
       "      <td>1560.1156</td>\n",
       "      <td>14.04</td>\n",
       "      <td>226.3</td>\n",
       "      <td>3126093.298</td>\n",
       "      <td>64</td>\n",
       "      <td>14503</td>\n",
       "      <td>12402</td>\n",
       "      <td>1</td>\n",
       "      <td>3G</td>\n",
       "      <td>3G</td>\n",
       "      <td>Weematel</td>\n",
       "      <td>Mango</td>\n",
       "    </tr>\n",
       "  </tbody>\n",
       "</table>\n",
       "</div>"
      ],
      "text/plain": [
       "  Customer ID  network_age  Customer tenure in month  \\\n",
       "0     ADF0001         1012                 33.733333   \n",
       "\n",
       "   Total Spend in Months 1 and 2 of 2017  Total SMS Spend  Total Data Spend  \\\n",
       "0                              1560.1156            14.04             226.3   \n",
       "\n",
       "   Total Data Consumption  Total Unique Calls  Total Onnet spend   \\\n",
       "0             3126093.298                  64               14503   \n",
       "\n",
       "   Total Offnet spend  Total Call centre complaint calls  \\\n",
       "0               12402                                  1   \n",
       "\n",
       "  Network type subscription in Month 1 Network type subscription in Month 2  \\\n",
       "0                                   3G                                   3G   \n",
       "\n",
       "  Most Loved Competitor network in in Month 1  \\\n",
       "0                                    Weematel   \n",
       "\n",
       "  Most Loved Competitor network in in Month 2  \n",
       "0                                       Mango  "
      ]
     },
     "execution_count": 5,
     "metadata": {},
     "output_type": "execute_result"
    }
   ],
   "source": [
    "badass_test.head(1)"
   ]
  },
  {
   "cell_type": "code",
   "execution_count": 6,
   "metadata": {},
   "outputs": [
    {
     "data": {
      "text/html": [
       "<div>\n",
       "<style scoped>\n",
       "    .dataframe tbody tr th:only-of-type {\n",
       "        vertical-align: middle;\n",
       "    }\n",
       "\n",
       "    .dataframe tbody tr th {\n",
       "        vertical-align: top;\n",
       "    }\n",
       "\n",
       "    .dataframe thead th {\n",
       "        text-align: right;\n",
       "    }\n",
       "</style>\n",
       "<table border=\"1\" class=\"dataframe\">\n",
       "  <thead>\n",
       "    <tr style=\"text-align: right;\">\n",
       "      <th></th>\n",
       "      <th>Customer ID</th>\n",
       "      <th>network_age</th>\n",
       "      <th>Customer tenure in month</th>\n",
       "      <th>Total Spend in Months 1 and 2 of 2017</th>\n",
       "      <th>Total SMS Spend</th>\n",
       "      <th>Total Data Spend</th>\n",
       "      <th>Total Data Consumption</th>\n",
       "      <th>Total Unique Calls</th>\n",
       "      <th>Total Onnet spend</th>\n",
       "      <th>Total Offnet spend</th>\n",
       "      <th>Total Call centre complaint calls</th>\n",
       "      <th>Network type subscription in Month 1</th>\n",
       "      <th>Network type subscription in Month 2</th>\n",
       "      <th>Most Loved Competitor network in in Month 1</th>\n",
       "      <th>Most Loved Competitor network in in Month 2</th>\n",
       "      <th>Churn Status</th>\n",
       "    </tr>\n",
       "  </thead>\n",
       "  <tbody>\n",
       "    <tr>\n",
       "      <th>0</th>\n",
       "      <td>ADF0039</td>\n",
       "      <td>123.0</td>\n",
       "      <td>4.1</td>\n",
       "      <td>76.714</td>\n",
       "      <td>0.0</td>\n",
       "      <td>1.25</td>\n",
       "      <td>1.4951</td>\n",
       "      <td>14.0</td>\n",
       "      <td>564.0</td>\n",
       "      <td>6408.0</td>\n",
       "      <td>2.0</td>\n",
       "      <td>2G</td>\n",
       "      <td>2G</td>\n",
       "      <td>Uxaa</td>\n",
       "      <td>Mango</td>\n",
       "      <td>0.0</td>\n",
       "    </tr>\n",
       "  </tbody>\n",
       "</table>\n",
       "</div>"
      ],
      "text/plain": [
       "  Customer ID  network_age  Customer tenure in month  \\\n",
       "0     ADF0039        123.0                       4.1   \n",
       "\n",
       "   Total Spend in Months 1 and 2 of 2017  Total SMS Spend  Total Data Spend  \\\n",
       "0                                 76.714              0.0              1.25   \n",
       "\n",
       "   Total Data Consumption  Total Unique Calls  Total Onnet spend   \\\n",
       "0                  1.4951                14.0               564.0   \n",
       "\n",
       "   Total Offnet spend  Total Call centre complaint calls  \\\n",
       "0              6408.0                                2.0   \n",
       "\n",
       "  Network type subscription in Month 1 Network type subscription in Month 2  \\\n",
       "0                                   2G                                   2G   \n",
       "\n",
       "  Most Loved Competitor network in in Month 1  \\\n",
       "0                                        Uxaa   \n",
       "\n",
       "  Most Loved Competitor network in in Month 2  Churn Status  \n",
       "0                                       Mango           0.0  "
      ]
     },
     "execution_count": 6,
     "metadata": {},
     "output_type": "execute_result"
    }
   ],
   "source": [
    "badass_train.head(1)"
   ]
  },
  {
   "cell_type": "code",
   "execution_count": 7,
   "metadata": {},
   "outputs": [],
   "source": [
    "test=badass_test.copy()"
   ]
  },
  {
   "cell_type": "code",
   "execution_count": 8,
   "metadata": {},
   "outputs": [],
   "source": [
    "train=badass_train.copy()"
   ]
  },
  {
   "cell_type": "code",
   "execution_count": 9,
   "metadata": {},
   "outputs": [],
   "source": [
    " train = train.drop(['Customer ID', 'Network type subscription in Month 1','Network type subscription in Month 2', 'Most Loved Competitor network in in Month 2'], axis=1)"
   ]
  },
  {
   "cell_type": "code",
   "execution_count": 10,
   "metadata": {},
   "outputs": [
    {
     "data": {
      "text/html": [
       "<div>\n",
       "<style scoped>\n",
       "    .dataframe tbody tr th:only-of-type {\n",
       "        vertical-align: middle;\n",
       "    }\n",
       "\n",
       "    .dataframe tbody tr th {\n",
       "        vertical-align: top;\n",
       "    }\n",
       "\n",
       "    .dataframe thead th {\n",
       "        text-align: right;\n",
       "    }\n",
       "</style>\n",
       "<table border=\"1\" class=\"dataframe\">\n",
       "  <thead>\n",
       "    <tr style=\"text-align: right;\">\n",
       "      <th></th>\n",
       "      <th>network_age</th>\n",
       "      <th>Customer tenure in month</th>\n",
       "      <th>Total Spend in Months 1 and 2 of 2017</th>\n",
       "      <th>Total SMS Spend</th>\n",
       "      <th>Total Data Spend</th>\n",
       "      <th>Total Data Consumption</th>\n",
       "      <th>Total Unique Calls</th>\n",
       "      <th>Total Onnet spend</th>\n",
       "      <th>Total Offnet spend</th>\n",
       "      <th>Total Call centre complaint calls</th>\n",
       "      <th>Most Loved Competitor network in in Month 1</th>\n",
       "      <th>Churn Status</th>\n",
       "    </tr>\n",
       "  </thead>\n",
       "  <tbody>\n",
       "    <tr>\n",
       "      <th>0</th>\n",
       "      <td>123.0</td>\n",
       "      <td>4.1</td>\n",
       "      <td>76.714</td>\n",
       "      <td>0.0</td>\n",
       "      <td>1.25</td>\n",
       "      <td>1.4951</td>\n",
       "      <td>14.0</td>\n",
       "      <td>564.0</td>\n",
       "      <td>6408.0</td>\n",
       "      <td>2.0</td>\n",
       "      <td>Uxaa</td>\n",
       "      <td>0.0</td>\n",
       "    </tr>\n",
       "  </tbody>\n",
       "</table>\n",
       "</div>"
      ],
      "text/plain": [
       "   network_age  Customer tenure in month  \\\n",
       "0        123.0                       4.1   \n",
       "\n",
       "   Total Spend in Months 1 and 2 of 2017  Total SMS Spend  Total Data Spend  \\\n",
       "0                                 76.714              0.0              1.25   \n",
       "\n",
       "   Total Data Consumption  Total Unique Calls  Total Onnet spend   \\\n",
       "0                  1.4951                14.0               564.0   \n",
       "\n",
       "   Total Offnet spend  Total Call centre complaint calls  \\\n",
       "0              6408.0                                2.0   \n",
       "\n",
       "  Most Loved Competitor network in in Month 1  Churn Status  \n",
       "0                                        Uxaa           0.0  "
      ]
     },
     "execution_count": 10,
     "metadata": {},
     "output_type": "execute_result"
    }
   ],
   "source": [
    "train.head(1)"
   ]
  },
  {
   "cell_type": "code",
   "execution_count": 11,
   "metadata": {},
   "outputs": [],
   "source": [
    "train = train.drop(['Most Loved Competitor network in in Month 1'], axis=1)"
   ]
  },
  {
   "cell_type": "code",
   "execution_count": 53,
   "metadata": {},
   "outputs": [],
   "source": [
    "#train['Churn Status'].value_counts()\n",
    "train['Churn Status'][train['Churn Status']== 0.5] = 1"
   ]
  },
  {
   "cell_type": "code",
   "execution_count": 60,
   "metadata": {},
   "outputs": [
    {
     "data": {
      "text/plain": [
       "1.0"
      ]
     },
     "execution_count": 60,
     "metadata": {},
     "output_type": "execute_result"
    }
   ],
   "source": [
    "train['Churn Status'].iloc[1400]"
   ]
  },
  {
   "cell_type": "code",
   "execution_count": 61,
   "metadata": {},
   "outputs": [
    {
     "data": {
      "text/plain": [
       "1.0    701\n",
       "0.0    700\n",
       "Name: Churn Status, dtype: int64"
      ]
     },
     "execution_count": 61,
     "metadata": {},
     "output_type": "execute_result"
    }
   ],
   "source": [
    "train['Churn Status'].value_counts()"
   ]
  },
  {
   "cell_type": "code",
   "execution_count": 62,
   "metadata": {},
   "outputs": [
    {
     "data": {
      "text/html": [
       "<div>\n",
       "<style scoped>\n",
       "    .dataframe tbody tr th:only-of-type {\n",
       "        vertical-align: middle;\n",
       "    }\n",
       "\n",
       "    .dataframe tbody tr th {\n",
       "        vertical-align: top;\n",
       "    }\n",
       "\n",
       "    .dataframe thead th {\n",
       "        text-align: right;\n",
       "    }\n",
       "</style>\n",
       "<table border=\"1\" class=\"dataframe\">\n",
       "  <thead>\n",
       "    <tr style=\"text-align: right;\">\n",
       "      <th></th>\n",
       "      <th>network_age</th>\n",
       "      <th>Customer tenure in month</th>\n",
       "      <th>Total Spend in Months 1 and 2 of 2017</th>\n",
       "      <th>Total SMS Spend</th>\n",
       "      <th>Total Data Spend</th>\n",
       "      <th>Total Data Consumption</th>\n",
       "      <th>Total Unique Calls</th>\n",
       "      <th>Total Onnet spend</th>\n",
       "      <th>Total Offnet spend</th>\n",
       "      <th>Total Call centre complaint calls</th>\n",
       "      <th>Churn Status</th>\n",
       "    </tr>\n",
       "  </thead>\n",
       "  <tbody>\n",
       "    <tr>\n",
       "      <th>network_age</th>\n",
       "      <td>1.000000</td>\n",
       "      <td>1.000000</td>\n",
       "      <td>0.141220</td>\n",
       "      <td>-0.041783</td>\n",
       "      <td>0.042050</td>\n",
       "      <td>-0.060447</td>\n",
       "      <td>0.227427</td>\n",
       "      <td>0.014812</td>\n",
       "      <td>0.091307</td>\n",
       "      <td>0.065568</td>\n",
       "      <td>-0.124344</td>\n",
       "    </tr>\n",
       "    <tr>\n",
       "      <th>Customer tenure in month</th>\n",
       "      <td>1.000000</td>\n",
       "      <td>1.000000</td>\n",
       "      <td>0.141220</td>\n",
       "      <td>-0.041782</td>\n",
       "      <td>0.042052</td>\n",
       "      <td>-0.060446</td>\n",
       "      <td>0.227429</td>\n",
       "      <td>0.014811</td>\n",
       "      <td>0.091309</td>\n",
       "      <td>0.065568</td>\n",
       "      <td>-0.124343</td>\n",
       "    </tr>\n",
       "    <tr>\n",
       "      <th>Total Spend in Months 1 and 2 of 2017</th>\n",
       "      <td>0.141220</td>\n",
       "      <td>0.141220</td>\n",
       "      <td>1.000000</td>\n",
       "      <td>0.392617</td>\n",
       "      <td>0.666613</td>\n",
       "      <td>0.117119</td>\n",
       "      <td>0.576911</td>\n",
       "      <td>0.449974</td>\n",
       "      <td>0.745390</td>\n",
       "      <td>0.090060</td>\n",
       "      <td>-0.029714</td>\n",
       "    </tr>\n",
       "    <tr>\n",
       "      <th>Total SMS Spend</th>\n",
       "      <td>-0.041783</td>\n",
       "      <td>-0.041782</td>\n",
       "      <td>0.392617</td>\n",
       "      <td>1.000000</td>\n",
       "      <td>0.355067</td>\n",
       "      <td>-0.039586</td>\n",
       "      <td>0.077158</td>\n",
       "      <td>0.199500</td>\n",
       "      <td>0.274861</td>\n",
       "      <td>0.021247</td>\n",
       "      <td>0.098915</td>\n",
       "    </tr>\n",
       "    <tr>\n",
       "      <th>Total Data Spend</th>\n",
       "      <td>0.042050</td>\n",
       "      <td>0.042052</td>\n",
       "      <td>0.666613</td>\n",
       "      <td>0.355067</td>\n",
       "      <td>1.000000</td>\n",
       "      <td>0.093821</td>\n",
       "      <td>0.108656</td>\n",
       "      <td>0.162860</td>\n",
       "      <td>0.306024</td>\n",
       "      <td>0.076428</td>\n",
       "      <td>0.036300</td>\n",
       "    </tr>\n",
       "    <tr>\n",
       "      <th>Total Data Consumption</th>\n",
       "      <td>-0.060447</td>\n",
       "      <td>-0.060446</td>\n",
       "      <td>0.117119</td>\n",
       "      <td>-0.039586</td>\n",
       "      <td>0.093821</td>\n",
       "      <td>1.000000</td>\n",
       "      <td>-0.007480</td>\n",
       "      <td>-0.058577</td>\n",
       "      <td>0.004268</td>\n",
       "      <td>0.026101</td>\n",
       "      <td>-0.142295</td>\n",
       "    </tr>\n",
       "    <tr>\n",
       "      <th>Total Unique Calls</th>\n",
       "      <td>0.227427</td>\n",
       "      <td>0.227429</td>\n",
       "      <td>0.576911</td>\n",
       "      <td>0.077158</td>\n",
       "      <td>0.108656</td>\n",
       "      <td>-0.007480</td>\n",
       "      <td>1.000000</td>\n",
       "      <td>0.283850</td>\n",
       "      <td>0.518313</td>\n",
       "      <td>0.065637</td>\n",
       "      <td>-0.134285</td>\n",
       "    </tr>\n",
       "    <tr>\n",
       "      <th>Total Onnet spend</th>\n",
       "      <td>0.014812</td>\n",
       "      <td>0.014811</td>\n",
       "      <td>0.449974</td>\n",
       "      <td>0.199500</td>\n",
       "      <td>0.162860</td>\n",
       "      <td>-0.058577</td>\n",
       "      <td>0.283850</td>\n",
       "      <td>1.000000</td>\n",
       "      <td>0.488650</td>\n",
       "      <td>0.033637</td>\n",
       "      <td>-0.005008</td>\n",
       "    </tr>\n",
       "    <tr>\n",
       "      <th>Total Offnet spend</th>\n",
       "      <td>0.091307</td>\n",
       "      <td>0.091309</td>\n",
       "      <td>0.745390</td>\n",
       "      <td>0.274861</td>\n",
       "      <td>0.306024</td>\n",
       "      <td>0.004268</td>\n",
       "      <td>0.518313</td>\n",
       "      <td>0.488650</td>\n",
       "      <td>1.000000</td>\n",
       "      <td>0.044265</td>\n",
       "      <td>0.103182</td>\n",
       "    </tr>\n",
       "    <tr>\n",
       "      <th>Total Call centre complaint calls</th>\n",
       "      <td>0.065568</td>\n",
       "      <td>0.065568</td>\n",
       "      <td>0.090060</td>\n",
       "      <td>0.021247</td>\n",
       "      <td>0.076428</td>\n",
       "      <td>0.026101</td>\n",
       "      <td>0.065637</td>\n",
       "      <td>0.033637</td>\n",
       "      <td>0.044265</td>\n",
       "      <td>1.000000</td>\n",
       "      <td>-0.071842</td>\n",
       "    </tr>\n",
       "    <tr>\n",
       "      <th>Churn Status</th>\n",
       "      <td>-0.124344</td>\n",
       "      <td>-0.124343</td>\n",
       "      <td>-0.029714</td>\n",
       "      <td>0.098915</td>\n",
       "      <td>0.036300</td>\n",
       "      <td>-0.142295</td>\n",
       "      <td>-0.134285</td>\n",
       "      <td>-0.005008</td>\n",
       "      <td>0.103182</td>\n",
       "      <td>-0.071842</td>\n",
       "      <td>1.000000</td>\n",
       "    </tr>\n",
       "  </tbody>\n",
       "</table>\n",
       "</div>"
      ],
      "text/plain": [
       "                                       network_age  Customer tenure in month  \\\n",
       "network_age                               1.000000                  1.000000   \n",
       "Customer tenure in month                  1.000000                  1.000000   \n",
       "Total Spend in Months 1 and 2 of 2017     0.141220                  0.141220   \n",
       "Total SMS Spend                          -0.041783                 -0.041782   \n",
       "Total Data Spend                          0.042050                  0.042052   \n",
       "Total Data Consumption                   -0.060447                 -0.060446   \n",
       "Total Unique Calls                        0.227427                  0.227429   \n",
       "Total Onnet spend                         0.014812                  0.014811   \n",
       "Total Offnet spend                        0.091307                  0.091309   \n",
       "Total Call centre complaint calls         0.065568                  0.065568   \n",
       "Churn Status                             -0.124344                 -0.124343   \n",
       "\n",
       "                                       Total Spend in Months 1 and 2 of 2017  \\\n",
       "network_age                                                         0.141220   \n",
       "Customer tenure in month                                            0.141220   \n",
       "Total Spend in Months 1 and 2 of 2017                               1.000000   \n",
       "Total SMS Spend                                                     0.392617   \n",
       "Total Data Spend                                                    0.666613   \n",
       "Total Data Consumption                                              0.117119   \n",
       "Total Unique Calls                                                  0.576911   \n",
       "Total Onnet spend                                                   0.449974   \n",
       "Total Offnet spend                                                  0.745390   \n",
       "Total Call centre complaint calls                                   0.090060   \n",
       "Churn Status                                                       -0.029714   \n",
       "\n",
       "                                       Total SMS Spend  Total Data Spend  \\\n",
       "network_age                                  -0.041783          0.042050   \n",
       "Customer tenure in month                     -0.041782          0.042052   \n",
       "Total Spend in Months 1 and 2 of 2017         0.392617          0.666613   \n",
       "Total SMS Spend                               1.000000          0.355067   \n",
       "Total Data Spend                              0.355067          1.000000   \n",
       "Total Data Consumption                       -0.039586          0.093821   \n",
       "Total Unique Calls                            0.077158          0.108656   \n",
       "Total Onnet spend                             0.199500          0.162860   \n",
       "Total Offnet spend                            0.274861          0.306024   \n",
       "Total Call centre complaint calls             0.021247          0.076428   \n",
       "Churn Status                                  0.098915          0.036300   \n",
       "\n",
       "                                       Total Data Consumption  \\\n",
       "network_age                                         -0.060447   \n",
       "Customer tenure in month                            -0.060446   \n",
       "Total Spend in Months 1 and 2 of 2017                0.117119   \n",
       "Total SMS Spend                                     -0.039586   \n",
       "Total Data Spend                                     0.093821   \n",
       "Total Data Consumption                               1.000000   \n",
       "Total Unique Calls                                  -0.007480   \n",
       "Total Onnet spend                                   -0.058577   \n",
       "Total Offnet spend                                   0.004268   \n",
       "Total Call centre complaint calls                    0.026101   \n",
       "Churn Status                                        -0.142295   \n",
       "\n",
       "                                       Total Unique Calls  Total Onnet spend   \\\n",
       "network_age                                      0.227427            0.014812   \n",
       "Customer tenure in month                         0.227429            0.014811   \n",
       "Total Spend in Months 1 and 2 of 2017            0.576911            0.449974   \n",
       "Total SMS Spend                                  0.077158            0.199500   \n",
       "Total Data Spend                                 0.108656            0.162860   \n",
       "Total Data Consumption                          -0.007480           -0.058577   \n",
       "Total Unique Calls                               1.000000            0.283850   \n",
       "Total Onnet spend                                0.283850            1.000000   \n",
       "Total Offnet spend                               0.518313            0.488650   \n",
       "Total Call centre complaint calls                0.065637            0.033637   \n",
       "Churn Status                                    -0.134285           -0.005008   \n",
       "\n",
       "                                       Total Offnet spend  \\\n",
       "network_age                                      0.091307   \n",
       "Customer tenure in month                         0.091309   \n",
       "Total Spend in Months 1 and 2 of 2017            0.745390   \n",
       "Total SMS Spend                                  0.274861   \n",
       "Total Data Spend                                 0.306024   \n",
       "Total Data Consumption                           0.004268   \n",
       "Total Unique Calls                               0.518313   \n",
       "Total Onnet spend                                0.488650   \n",
       "Total Offnet spend                               1.000000   \n",
       "Total Call centre complaint calls                0.044265   \n",
       "Churn Status                                     0.103182   \n",
       "\n",
       "                                       Total Call centre complaint calls  \\\n",
       "network_age                                                     0.065568   \n",
       "Customer tenure in month                                        0.065568   \n",
       "Total Spend in Months 1 and 2 of 2017                           0.090060   \n",
       "Total SMS Spend                                                 0.021247   \n",
       "Total Data Spend                                                0.076428   \n",
       "Total Data Consumption                                          0.026101   \n",
       "Total Unique Calls                                              0.065637   \n",
       "Total Onnet spend                                               0.033637   \n",
       "Total Offnet spend                                              0.044265   \n",
       "Total Call centre complaint calls                               1.000000   \n",
       "Churn Status                                                   -0.071842   \n",
       "\n",
       "                                       Churn Status  \n",
       "network_age                               -0.124344  \n",
       "Customer tenure in month                  -0.124343  \n",
       "Total Spend in Months 1 and 2 of 2017     -0.029714  \n",
       "Total SMS Spend                            0.098915  \n",
       "Total Data Spend                           0.036300  \n",
       "Total Data Consumption                    -0.142295  \n",
       "Total Unique Calls                        -0.134285  \n",
       "Total Onnet spend                         -0.005008  \n",
       "Total Offnet spend                         0.103182  \n",
       "Total Call centre complaint calls         -0.071842  \n",
       "Churn Status                               1.000000  "
      ]
     },
     "execution_count": 62,
     "metadata": {},
     "output_type": "execute_result"
    }
   ],
   "source": [
    "train.corr()"
   ]
  },
  {
   "cell_type": "code",
   "execution_count": 63,
   "metadata": {},
   "outputs": [
    {
     "data": {
      "text/plain": [
       "<matplotlib.axes._subplots.AxesSubplot at 0x21a90d9c438>"
      ]
     },
     "execution_count": 63,
     "metadata": {},
     "output_type": "execute_result"
    },
    {
     "data": {
      "image/png": "[encoded data removed]",
      "text/plain": [
       "<Figure size 1008x720 with 2 Axes>"
      ]
     },
     "metadata": {
      "needs_background": "light"
     },
     "output_type": "display_data"
    }
   ],
   "source": [
    "plt.figure(figsize=(14,10))\n",
    "sns.heatmap(train.corr(), annot=True)"
   ]
  },
  {
   "cell_type": "code",
   "execution_count": 64,
   "metadata": {},
   "outputs": [
    {
     "data": {
      "text/plain": [
       "array([[<matplotlib.axes._subplots.AxesSubplot object at 0x0000021A9191CB00>,\n",
       "        <matplotlib.axes._subplots.AxesSubplot object at 0x0000021A9194A550>,\n",
       "        <matplotlib.axes._subplots.AxesSubplot object at 0x0000021A911E5BE0>],\n",
       "       [<matplotlib.axes._subplots.AxesSubplot object at 0x0000021A90E382B0>,\n",
       "        <matplotlib.axes._subplots.AxesSubplot object at 0x0000021A90E61940>,\n",
       "        <matplotlib.axes._subplots.AxesSubplot object at 0x0000021A90E61978>],\n",
       "       [<matplotlib.axes._subplots.AxesSubplot object at 0x0000021A90EBA6A0>,\n",
       "        <matplotlib.axes._subplots.AxesSubplot object at 0x0000021A90EE3D30>,\n",
       "        <matplotlib.axes._subplots.AxesSubplot object at 0x0000021A90F15400>],\n",
       "       [<matplotlib.axes._subplots.AxesSubplot object at 0x0000021A90F3CA90>,\n",
       "        <matplotlib.axes._subplots.AxesSubplot object at 0x0000021A90F71160>,\n",
       "        <matplotlib.axes._subplots.AxesSubplot object at 0x0000021A90F967F0>]],\n",
       "      dtype=object)"
      ]
     },
     "execution_count": 64,
     "metadata": {},
     "output_type": "execute_result"
    },
    {
     "data": {
      "image/png": "[encoded data removed]",
      "text/plain": [
       "<Figure size 1440x1440 with 12 Axes>"
      ]
     },
     "metadata": {
      "needs_background": "light"
     },
     "output_type": "display_data"
    }
   ],
   "source": [
    "train.hist(figsize=(20,20))"
   ]
  },
  {
   "cell_type": "code",
   "execution_count": 65,
   "metadata": {},
   "outputs": [],
   "source": [
    "#tain = train.drop(['Most Loved Competitor network in in Month 1'], axis=1)"
   ]
  },
  {
   "cell_type": "code",
   "execution_count": 69,
   "metadata": {},
   "outputs": [
    {
     "data": {
      "text/plain": [
       "network_age                              0\n",
       "Customer tenure in month                 0\n",
       "Total Spend in Months 1 and 2 of 2017    0\n",
       "Total SMS Spend                          0\n",
       "Total Data Spend                         0\n",
       "Total Data Consumption                   0\n",
       "Total Unique Calls                       0\n",
       "Total Onnet spend                        0\n",
       "Total Offnet spend                       0\n",
       "Total Call centre complaint calls        0\n",
       "Churn Status                             0\n",
       "dtype: int64"
      ]
     },
     "execution_count": 69,
     "metadata": {},
     "output_type": "execute_result"
    }
   ],
   "source": [
    "train.isnull().sum()"
   ]
  },
  {
   "cell_type": "code",
   "execution_count": 70,
   "metadata": {},
   "outputs": [
    {
     "data": {
      "text/html": [
       "<div>\n",
       "<style scoped>\n",
       "    .dataframe tbody tr th:only-of-type {\n",
       "        vertical-align: middle;\n",
       "    }\n",
       "\n",
       "    .dataframe tbody tr th {\n",
       "        vertical-align: top;\n",
       "    }\n",
       "\n",
       "    .dataframe thead th {\n",
       "        text-align: right;\n",
       "    }\n",
       "</style>\n",
       "<table border=\"1\" class=\"dataframe\">\n",
       "  <thead>\n",
       "    <tr style=\"text-align: right;\">\n",
       "      <th></th>\n",
       "      <th>network_age</th>\n",
       "      <th>Customer tenure in month</th>\n",
       "      <th>Total Spend in Months 1 and 2 of 2017</th>\n",
       "      <th>Total SMS Spend</th>\n",
       "      <th>Total Data Spend</th>\n",
       "      <th>Total Data Consumption</th>\n",
       "      <th>Total Unique Calls</th>\n",
       "      <th>Total Onnet spend</th>\n",
       "      <th>Total Offnet spend</th>\n",
       "      <th>Total Call centre complaint calls</th>\n",
       "      <th>Churn Status</th>\n",
       "    </tr>\n",
       "  </thead>\n",
       "  <tbody>\n",
       "    <tr>\n",
       "      <th>0</th>\n",
       "      <td>123.0</td>\n",
       "      <td>4.1</td>\n",
       "      <td>76.714</td>\n",
       "      <td>0.0</td>\n",
       "      <td>1.25</td>\n",
       "      <td>1.4951</td>\n",
       "      <td>14.0</td>\n",
       "      <td>564.0</td>\n",
       "      <td>6408.0</td>\n",
       "      <td>2.0</td>\n",
       "      <td>0.0</td>\n",
       "    </tr>\n",
       "  </tbody>\n",
       "</table>\n",
       "</div>"
      ],
      "text/plain": [
       "   network_age  Customer tenure in month  \\\n",
       "0        123.0                       4.1   \n",
       "\n",
       "   Total Spend in Months 1 and 2 of 2017  Total SMS Spend  Total Data Spend  \\\n",
       "0                                 76.714              0.0              1.25   \n",
       "\n",
       "   Total Data Consumption  Total Unique Calls  Total Onnet spend   \\\n",
       "0                  1.4951                14.0               564.0   \n",
       "\n",
       "   Total Offnet spend  Total Call centre complaint calls  Churn Status  \n",
       "0              6408.0                                2.0           0.0  "
      ]
     },
     "execution_count": 70,
     "metadata": {},
     "output_type": "execute_result"
    }
   ],
   "source": [
    "train.head(1)"
   ]
  },
  {
   "cell_type": "code",
   "execution_count": 71,
   "metadata": {},
   "outputs": [],
   "source": [
    "from sklearn.preprocessing import Imputer\n",
    "imp = Imputer(strategy='median')\n",
    "imp.fit(train)\n",
    "train = pd.DataFrame(data=imp.transform(train), columns=train.columns)"
   ]
  },
  {
   "cell_type": "code",
   "execution_count": 72,
   "metadata": {},
   "outputs": [
    {
     "data": {
      "text/html": [
       "<div>\n",
       "<style scoped>\n",
       "    .dataframe tbody tr th:only-of-type {\n",
       "        vertical-align: middle;\n",
       "    }\n",
       "\n",
       "    .dataframe tbody tr th {\n",
       "        vertical-align: top;\n",
       "    }\n",
       "\n",
       "    .dataframe thead th {\n",
       "        text-align: right;\n",
       "    }\n",
       "</style>\n",
       "<table border=\"1\" class=\"dataframe\">\n",
       "  <thead>\n",
       "    <tr style=\"text-align: right;\">\n",
       "      <th></th>\n",
       "      <th>network_age</th>\n",
       "      <th>Customer tenure in month</th>\n",
       "      <th>Total Spend in Months 1 and 2 of 2017</th>\n",
       "      <th>Total SMS Spend</th>\n",
       "      <th>Total Data Spend</th>\n",
       "      <th>Total Data Consumption</th>\n",
       "      <th>Total Unique Calls</th>\n",
       "      <th>Total Onnet spend</th>\n",
       "      <th>Total Offnet spend</th>\n",
       "      <th>Total Call centre complaint calls</th>\n",
       "      <th>Churn Status</th>\n",
       "    </tr>\n",
       "  </thead>\n",
       "  <tbody>\n",
       "    <tr>\n",
       "      <th>0</th>\n",
       "      <td>123.0</td>\n",
       "      <td>4.10</td>\n",
       "      <td>76.7140</td>\n",
       "      <td>0.00</td>\n",
       "      <td>1.25</td>\n",
       "      <td>1.4951</td>\n",
       "      <td>14.0</td>\n",
       "      <td>564.0</td>\n",
       "      <td>6408.0</td>\n",
       "      <td>2.0</td>\n",
       "      <td>0.0</td>\n",
       "    </tr>\n",
       "    <tr>\n",
       "      <th>1</th>\n",
       "      <td>1316.0</td>\n",
       "      <td>43.87</td>\n",
       "      <td>98.8904</td>\n",
       "      <td>4.14</td>\n",
       "      <td>1.25</td>\n",
       "      <td>1.0244</td>\n",
       "      <td>27.0</td>\n",
       "      <td>1626.0</td>\n",
       "      <td>4373.0</td>\n",
       "      <td>1.0</td>\n",
       "      <td>0.0</td>\n",
       "    </tr>\n",
       "  </tbody>\n",
       "</table>\n",
       "</div>"
      ],
      "text/plain": [
       "   network_age  Customer tenure in month  \\\n",
       "0        123.0                      4.10   \n",
       "1       1316.0                     43.87   \n",
       "\n",
       "   Total Spend in Months 1 and 2 of 2017  Total SMS Spend  Total Data Spend  \\\n",
       "0                                76.7140             0.00              1.25   \n",
       "1                                98.8904             4.14              1.25   \n",
       "\n",
       "   Total Data Consumption  Total Unique Calls  Total Onnet spend   \\\n",
       "0                  1.4951                14.0               564.0   \n",
       "1                  1.0244                27.0              1626.0   \n",
       "\n",
       "   Total Offnet spend  Total Call centre complaint calls  Churn Status  \n",
       "0              6408.0                                2.0           0.0  \n",
       "1              4373.0                                1.0           0.0  "
      ]
     },
     "execution_count": 72,
     "metadata": {},
     "output_type": "execute_result"
    }
   ],
   "source": [
    "train.head(2)"
   ]
  },
  {
   "cell_type": "code",
   "execution_count": 73,
   "metadata": {},
   "outputs": [],
   "source": [
    "x = train.drop(['Churn Status'], axis=1)\n",
    "y=train['Churn Status']"
   ]
  },
  {
   "cell_type": "code",
   "execution_count": 74,
   "metadata": {},
   "outputs": [
    {
     "name": "stdout",
     "output_type": "stream",
     "text": [
      "<class 'pandas.core.frame.DataFrame'>\n",
      "RangeIndex: 1401 entries, 0 to 1400\n",
      "Data columns (total 11 columns):\n",
      "network_age                              1401 non-null float64\n",
      "Customer tenure in month                 1401 non-null float64\n",
      "Total Spend in Months 1 and 2 of 2017    1401 non-null float64\n",
      "Total SMS Spend                          1401 non-null float64\n",
      "Total Data Spend                         1401 non-null float64\n",
      "Total Data Consumption                   1401 non-null float64\n",
      "Total Unique Calls                       1401 non-null float64\n",
      "Total Onnet spend                        1401 non-null float64\n",
      "Total Offnet spend                       1401 non-null float64\n",
      "Total Call centre complaint calls        1401 non-null float64\n",
      "Churn Status                             1401 non-null float64\n",
      "dtypes: float64(11)\n",
      "memory usage: 120.5 KB\n"
     ]
    }
   ],
   "source": [
    "train.info()"
   ]
  },
  {
   "cell_type": "code",
   "execution_count": 75,
   "metadata": {},
   "outputs": [
    {
     "data": {
      "text/html": [
       "<div>\n",
       "<style scoped>\n",
       "    .dataframe tbody tr th:only-of-type {\n",
       "        vertical-align: middle;\n",
       "    }\n",
       "\n",
       "    .dataframe tbody tr th {\n",
       "        vertical-align: top;\n",
       "    }\n",
       "\n",
       "    .dataframe thead th {\n",
       "        text-align: right;\n",
       "    }\n",
       "</style>\n",
       "<table border=\"1\" class=\"dataframe\">\n",
       "  <thead>\n",
       "    <tr style=\"text-align: right;\">\n",
       "      <th></th>\n",
       "      <th>network_age</th>\n",
       "      <th>Customer tenure in month</th>\n",
       "      <th>Total Spend in Months 1 and 2 of 2017</th>\n",
       "      <th>Total SMS Spend</th>\n",
       "      <th>Total Data Spend</th>\n",
       "      <th>Total Data Consumption</th>\n",
       "      <th>Total Unique Calls</th>\n",
       "      <th>Total Onnet spend</th>\n",
       "      <th>Total Offnet spend</th>\n",
       "      <th>Total Call centre complaint calls</th>\n",
       "    </tr>\n",
       "  </thead>\n",
       "  <tbody>\n",
       "    <tr>\n",
       "      <th>0</th>\n",
       "      <td>123.0</td>\n",
       "      <td>4.1</td>\n",
       "      <td>76.714</td>\n",
       "      <td>0.0</td>\n",
       "      <td>1.25</td>\n",
       "      <td>1.4951</td>\n",
       "      <td>14.0</td>\n",
       "      <td>564.0</td>\n",
       "      <td>6408.0</td>\n",
       "      <td>2.0</td>\n",
       "    </tr>\n",
       "  </tbody>\n",
       "</table>\n",
       "</div>"
      ],
      "text/plain": [
       "   network_age  Customer tenure in month  \\\n",
       "0        123.0                       4.1   \n",
       "\n",
       "   Total Spend in Months 1 and 2 of 2017  Total SMS Spend  Total Data Spend  \\\n",
       "0                                 76.714              0.0              1.25   \n",
       "\n",
       "   Total Data Consumption  Total Unique Calls  Total Onnet spend   \\\n",
       "0                  1.4951                14.0               564.0   \n",
       "\n",
       "   Total Offnet spend  Total Call centre complaint calls  \n",
       "0              6408.0                                2.0  "
      ]
     },
     "execution_count": 75,
     "metadata": {},
     "output_type": "execute_result"
    }
   ],
   "source": [
    "x.head(1)"
   ]
  },
  {
   "cell_type": "code",
   "execution_count": 76,
   "metadata": {},
   "outputs": [
    {
     "data": {
      "text/plain": [
       "1.0    701\n",
       "0.0    700\n",
       "Name: Churn Status, dtype: int64"
      ]
     },
     "execution_count": 76,
     "metadata": {},
     "output_type": "execute_result"
    }
   ],
   "source": [
    "y.value_counts()"
   ]
  },
  {
   "cell_type": "code",
   "execution_count": 77,
   "metadata": {},
   "outputs": [],
   "source": [
    "from sklearn.cross_validation import train_test_split"
   ]
  },
  {
   "cell_type": "code",
   "execution_count": 78,
   "metadata": {},
   "outputs": [],
   "source": [
    "x_train, x_test, y_train, y_test = train_test_split(x,y, random_state=0, train_size=0.4)"
   ]
  },
  {
   "cell_type": "code",
   "execution_count": 80,
   "metadata": {},
   "outputs": [
    {
     "data": {
      "text/plain": [
       "KNeighborsClassifier(algorithm='auto', leaf_size=30, metric='minkowski',\n",
       "           metric_params=None, n_jobs=1, n_neighbors=5, p=2,\n",
       "           weights='uniform')"
      ]
     },
     "execution_count": 80,
     "metadata": {},
     "output_type": "execute_result"
    }
   ],
   "source": [
    "from sklearn.neighbors import KNeighborsClassifier\n",
    "knn = KNeighborsClassifier()\n",
    "knn.fit(x_train, y_train)"
   ]
  },
  {
   "cell_type": "code",
   "execution_count": 82,
   "metadata": {},
   "outputs": [
    {
     "data": {
      "text/plain": [
       "0.7660714285714286"
      ]
     },
     "execution_count": 82,
     "metadata": {},
     "output_type": "execute_result"
    }
   ],
   "source": [
    "y_pred_1 = knn.predict(x_train)\n",
    "accuracy_score(y_pred_1, y_train,)"
   ]
  },
  {
   "cell_type": "code",
   "execution_count": null,
   "metadata": {},
   "outputs": [],
   "source": []
  },
  {
   "cell_type": "code",
   "execution_count": 29,
   "metadata": {},
   "outputs": [],
   "source": [
    "#print(((y_pred_2 !=0.) & (y_pred_2 !=1.).any()))"
   ]
  },
  {
   "cell_type": "code",
   "execution_count": 35,
   "metadata": {},
   "outputs": [],
   "source": [
    "#def remove_unlabelled_data(x,y):\n",
    " #   drop_indexes = x_test(y_test['score'] != 1) & (y_test['score'] != 0).index\n",
    "  #  return x_test.drop(drop_indexes), y_test.drop(drop_indexes)"
   ]
  },
  {
   "cell_type": "code",
   "execution_count": 84,
   "metadata": {},
   "outputs": [
    {
     "data": {
      "text/plain": [
       "0.6135552913198573"
      ]
     },
     "execution_count": 84,
     "metadata": {},
     "output_type": "execute_result"
    }
   ],
   "source": [
    "y_pred_2 =knn.predict(x_test)\n",
    "accuracy_score(y_pred_2.round(), y_test, normalize=True)"
   ]
  },
  {
   "cell_type": "code",
   "execution_count": 85,
   "metadata": {},
   "outputs": [],
   "source": [
    "from sklearn.naive_bayes import GaussianNB\n",
    "model = GaussianNB()\n",
    "model.fit(x_train, y_train)\n",
    "y_model = model.predict(x_test)"
   ]
  },
  {
   "cell_type": "code",
   "execution_count": 86,
   "metadata": {},
   "outputs": [
    {
     "data": {
      "text/plain": [
       "0.5077288941736029"
      ]
     },
     "execution_count": 86,
     "metadata": {},
     "output_type": "execute_result"
    }
   ],
   "source": [
    "from sklearn.metrics import accuracy_score\n",
    "accuracy_score(y_test, y_model)"
   ]
  },
  {
   "cell_type": "code",
   "execution_count": 90,
   "metadata": {},
   "outputs": [
    {
     "data": {
      "text/plain": [
       "0.5482142857142858"
      ]
     },
     "execution_count": 90,
     "metadata": {},
     "output_type": "execute_result"
    }
   ],
   "source": [
    "y_model_1 = model.predict(x_train)\n",
    "accuracy_score(y_train, y_model_1)"
   ]
  },
  {
   "cell_type": "code",
   "execution_count": 88,
   "metadata": {},
   "outputs": [
    {
     "data": {
      "text/plain": [
       "Text(83.4,0.5,'true value')"
      ]
     },
     "execution_count": 88,
     "metadata": {},
     "output_type": "execute_result"
    },
    {
     "data": {
      "image/png": "[encoded data removed]",
      "text/plain": [
       "<Figure size 432x288 with 2 Axes>"
      ]
     },
     "metadata": {
      "needs_background": "light"
     },
     "output_type": "display_data"
    }
   ],
   "source": [
    "from sklearn.metrics import confusion_matrix\n",
    "mat = confusion_matrix(y_test, y_model)\n",
    "sns.heatmap(mat, square=True, annot=True, cbar=True)\n",
    "plt.xlabel('predicted value')\n",
    "plt.ylabel('true value')"
   ]
  },
  {
   "cell_type": "code",
   "execution_count": 40,
   "metadata": {},
   "outputs": [
    {
     "data": {
      "text/plain": [
       "1192    1.0\n",
       "49      1.0\n",
       "390     0.0\n",
       "593     0.0\n",
       "4       0.0\n",
       "674     0.0\n",
       "870     1.0\n",
       "924     0.0\n",
       "1322    0.0\n",
       "301     1.0\n",
       "Name: Churn Status, dtype: float64"
      ]
     },
     "execution_count": 40,
     "metadata": {},
     "output_type": "execute_result"
    }
   ],
   "source": [
    "y_test.sample(10)"
   ]
  },
  {
   "cell_type": "markdown",
   "metadata": {},
   "source": [
    "# Behaviors to retain customers"
   ]
  },
  {
   "cell_type": "markdown",
   "metadata": {},
   "source": [
    "The best behaviour to retain customer in these situation is to give the customer value in return of the money spent on sms,data and calls."
   ]
  }
 ],
 "metadata": {
  "kernelspec": {
   "display_name": "Python 3",
   "language": "python",
   "name": "python3"
  },
  "language_info": {
   "codemirror_mode": {
    "name": "ipython",
    "version": 3
   },
   "file_extension": ".py",
   "mimetype": "text/x-python",
   "name": "python",
   "nbconvert_exporter": "python",
   "pygments_lexer": "ipython3",
   "version": "3.6.4"
  }
 },
 "nbformat": 4,
 "nbformat_minor": 2
}
